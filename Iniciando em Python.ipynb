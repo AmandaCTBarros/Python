{
 "cells": [
  {
   "cell_type": "code",
   "execution_count": 1,
   "id": "fd687668",
   "metadata": {},
   "outputs": [
    {
     "data": {
      "text/plain": [
       "4"
      ]
     },
     "execution_count": 1,
     "metadata": {},
     "output_type": "execute_result"
    }
   ],
   "source": [
    "2 + 2"
   ]
  },
  {
   "cell_type": "code",
   "execution_count": 5,
   "id": "72121eb0",
   "metadata": {},
   "outputs": [
    {
     "name": "stdout",
     "output_type": "stream",
     "text": [
      "Olá Mundo!\n"
     ]
    }
   ],
   "source": [
    "print('Olá Mundo!')"
   ]
  },
  {
   "cell_type": "markdown",
   "id": "26cd0e58",
   "metadata": {},
   "source": [
    "Gere o código python que cria uma lista com os números entre 1 e 100 e então imprima os números pares, mas somente se o número for divisível por 4."
   ]
  },
  {
   "cell_type": "code",
   "execution_count": 3,
   "id": "12e69223",
   "metadata": {
    "scrolled": true
   },
   "outputs": [
    {
     "name": "stdout",
     "output_type": "stream",
     "text": [
      "4\n",
      "8\n",
      "12\n",
      "16\n",
      "20\n",
      "24\n",
      "28\n",
      "32\n",
      "36\n",
      "40\n",
      "44\n",
      "48\n",
      "52\n",
      "56\n",
      "60\n",
      "64\n",
      "68\n",
      "72\n",
      "76\n",
      "80\n",
      "84\n",
      "88\n",
      "92\n",
      "96\n",
      "100\n"
     ]
    }
   ],
   "source": [
    "# cria uma lista com os números de 1 a 100\n",
    "lista = list(range(1, 101))\n",
    "\n",
    " # verifica se o número é par e divisível por 4\n",
    "for numero in lista:\n",
    "    if numero % 2 == 0 and numero % 4 == 0:\n",
    "        print(numero)\n"
   ]
  },
  {
   "cell_type": "markdown",
   "id": "7402c9e7",
   "metadata": {},
   "source": [
    "Gere o código python que cria uma lista com os números entre 1 e 100 e então imprima os números pares, mas somente se o número for divisível por 4, usando a compreensão da listav"
   ]
  },
  {
   "cell_type": "code",
   "execution_count": 4,
   "id": "874fd095",
   "metadata": {},
   "outputs": [
    {
     "name": "stdout",
     "output_type": "stream",
     "text": [
      "[4, 8, 12, 16, 20, 24, 28, 32, 36, 40, 44, 48, 52, 56, 60, 64, 68, 72, 76, 80, 84, 88, 92, 96, 100]\n"
     ]
    }
   ],
   "source": [
    " # cria uma lista com os números pares divisíveis por 4\n",
    "lista = [num for num in range(1, 101) if num % 2 == 0 and num % 4 == 0]\n",
    "\n",
    "# imprime a lista na tela\n",
    "print(lista)\n"
   ]
  },
  {
   "cell_type": "markdown",
   "id": "a592fca4",
   "metadata": {},
   "source": [
    "# Fim"
   ]
  }
 ],
 "metadata": {
  "kernelspec": {
   "display_name": "Python 3 (ipykernel)",
   "language": "python",
   "name": "python3"
  },
  "language_info": {
   "codemirror_mode": {
    "name": "ipython",
    "version": 3
   },
   "file_extension": ".py",
   "mimetype": "text/x-python",
   "name": "python",
   "nbconvert_exporter": "python",
   "pygments_lexer": "ipython3",
   "version": "3.10.9"
  }
 },
 "nbformat": 4,
 "nbformat_minor": 5
}
